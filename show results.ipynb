{
 "cells": [
  {
   "cell_type": "code",
   "execution_count": null,
   "id": "12459b15",
   "metadata": {},
   "outputs": [],
   "source": [
    "import sqlite3\n",
    "conn = sqlite3.connect('C:/Users/EFKA-PC/Desktop/github1/Global_Homicide_Database/homicides_fin.db')"
   ]
  },
  {
   "cell_type": "code",
   "execution_count": null,
   "id": "1d114e2f",
   "metadata": {},
   "outputs": [],
   "source": [
    "import pandas as pd\n",
    "sql_query = '''PRAGMA table_info('homicides');'''\n",
    "\n",
    "result = pd.read_sql_query(sql_query, conn)\n",
    "display(result)\n"
   ]
  },
  {
   "cell_type": "code",
   "execution_count": null,
   "id": "19f475f9",
   "metadata": {},
   "outputs": [],
   "source": [
    "sql_query = '''\n",
    "SELECT \n",
    "    SUM(homicides_2000) AS total_homicides_2000, \n",
    "    SUM(homicides_2001) AS total_homicides_2001,\n",
    "    SUM(homicides_2002) AS total_homicides_2002,\n",
    "    SUM(homicides_2003) AS total_homicides_2003,\n",
    "    SUM(homicides_2004) AS total_homicides_2004,\n",
    "    SUM(homicides_2005) AS total_homicides_2005,\n",
    "    SUM(homicides_2006) AS total_homicides_2006,\n",
    "    SUM(homicides_2007) AS total_homicides_2007,\n",
    "    SUM(homicides_2008) AS total_homicides_2008,\n",
    "    SUM(homicides_2009) AS total_homicides_2009,\n",
    "    SUM(homicides_2010) AS total_homicides_2010,\n",
    "    SUM(homicides_2011) AS total_homicides_2011,\n",
    "    SUM(homicides_2012) AS total_homicides_2012,\n",
    "    SUM(homicides_2013) AS total_homicides_2013,\n",
    "    SUM(homicides_2014) AS total_homicides_2014,\n",
    "    SUM(homicides_2015) AS total_homicides_2015,\n",
    "    SUM(homicides_2016) AS total_homicides_2016,\n",
    "    SUM(homicides_2017) AS total_homicides_2017,\n",
    "    SUM(homicides_2018) AS total_homicides_2018,\n",
    "    SUM(homicides_2019) AS total_homicides_2019,\n",
    "    SUM(homicides_2020) AS total_homicides_2020,\n",
    "    SUM(rates_2000) AS total_rates_2000, \n",
    "    SUM(rates_2001) AS total_rates_2001,\n",
    "    SUM(rates_2002) AS total_rates_2002,\n",
    "    SUM(rates_2003) AS total_rates_2003,\n",
    "    SUM(rates_2004) AS total_rates_2004,\n",
    "    SUM(rates_2005) AS total_rates_2005,\n",
    "    SUM(rates_2006) AS total_rates_2006,\n",
    "    SUM(rates_2007) AS total_rates_2007,\n",
    "    SUM(rates_2008) AS total_rates_2008,\n",
    "    SUM(rates_2009) AS total_rates_2009,\n",
    "    SUM(rates_2010) AS total_rates_2010,\n",
    "    SUM(rates_2011) AS total_rates_2011,\n",
    "    SUM(rates_2012) AS total_rates_2012,\n",
    "    SUM(rates_2013) AS total_rates_2013,\n",
    "    SUM(rates_2014) AS total_rates_2014,\n",
    "    SUM(rates_2015) AS total_rates_2015,\n",
    "    SUM(rates_2016) AS total_rates_2016,\n",
    "    SUM(rates_2017) AS total_rates_2017,\n",
    "    SUM(rates_2018) AS total_rates_2018,\n",
    "    SUM(rates_2019) AS total_rates_2019,\n",
    "    SUM(rates_2020) AS total_rates_2020\n",
    "FROM homicides; '''\n",
    "\n",
    "\n",
    "result = pd.read_sql_query(sql_query, conn)\n",
    "display(result)\n"
   ]
  },
  {
   "cell_type": "code",
   "execution_count": null,
   "id": "99849ef9",
   "metadata": {},
   "outputs": [],
   "source": [
    "import pandas as pd\n",
    "sql_query = '''\n",
    "SELECT \n",
    "    country, \n",
    "    homicides_2020, \n",
    "    rates_2020\n",
    "FROM homicides \n",
    "WHERE rates_2020 IS NOT NULL \n",
    "ORDER BY rates_2020 DESC \n",
    "LIMIT 10;\n",
    "'''\n",
    "\n",
    "result = pd.read_sql_query(sql_query, conn)\n",
    "display(result)\n"
   ]
  },
  {
   "cell_type": "code",
   "execution_count": null,
   "id": "f33dc714",
   "metadata": {},
   "outputs": [],
   "source": [
    "import pandas as pd\n",
    "sql_query = '''\n",
    "SELECT \n",
    "    region,\n",
    "    (rates_2020 - rates_2019) AS rate_increase\n",
    "FROM homicides\n",
    "WHERE rates_2020 IS NOT NULL AND rates_2019 IS NOT NULL\n",
    "ORDER BY rate_increase DESC\n",
    "LIMIT 10;\n",
    "'''\n",
    "\n",
    "result = pd.read_sql_query(sql_query, conn)\n",
    "display(result)\n"
   ]
  },
  {
   "cell_type": "code",
   "execution_count": null,
   "id": "3a2b22a3",
   "metadata": {},
   "outputs": [],
   "source": [
    "import pandas as pd\n",
    "sql_query = '''\n",
    "SELECT country, homicides_2020, rates_2020\n",
    "FROM homicides\n",
    "WHERE region = 'Europe'\n",
    "ORDER BY rates_2020 DESC;\n",
    "\n",
    "'''\n",
    "\n",
    "result = pd.read_sql_query(sql_query, conn)\n",
    "display(result)\n"
   ]
  },
  {
   "cell_type": "code",
   "execution_count": null,
   "id": "092780d5",
   "metadata": {},
   "outputs": [],
   "source": [
    "import pandas as pd\n",
    "sql_query = 'SELECT* from homicides'\n",
    "\n",
    "result = pd.read_sql_query(sql_query, conn)\n",
    "display(result)\n"
   ]
  }
 ],
 "metadata": {
  "kernelspec": {
   "display_name": "Python 3 (ipykernel)",
   "language": "python",
   "name": "python3"
  },
  "language_info": {
   "codemirror_mode": {
    "name": "ipython",
    "version": 3
   },
   "file_extension": ".py",
   "mimetype": "text/x-python",
   "name": "python",
   "nbconvert_exporter": "python",
   "pygments_lexer": "ipython3",
   "version": "3.11.1"
  }
 },
 "nbformat": 4,
 "nbformat_minor": 5
}
