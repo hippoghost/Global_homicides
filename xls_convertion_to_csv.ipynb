{
 "cells": [
  {
   "cell_type": "code",
   "execution_count": null,
   "id": "725a3d85",
   "metadata": {},
   "outputs": [],
   "source": [
    "# importing pandas as pd\n",
    "import pandas as pd\n",
    "\n",
    "df = pd.read_excel(\"C:/Users/Dimitris/Desktop/project spotify/Global_Homicide_Database/homicide/Intentional_Homicide.xls\")\n",
    "\n",
    "\n",
    "# Save the DataFrame as a CSV file\n",
    "#df.to_csv('C:/Users/Dimitris/Desktop/project spotify/Global_Homicide_Database/homicide/Intentional_Homicide.csv', index=False)\n",
    "\n",
    "\n",
    "\n",
    "#data = pd.DataFrame(pd.read_excel(\"C:/Users/Dimitris/Desktop/project spotify/Global_Homicide_Database/Intentional_Homicide.xls\"))\n",
    "#data = pd.DataFrame(pd.read_excel(\"C:/Users/EFKA-PC/Desktop/github1/birthrate/gender.xlsx\"))\n",
    "\n",
    "\n",
    "# show the dataframe\n",
    "df"
   ]
  },
  {
   "cell_type": "code",
   "execution_count": null,
   "id": "05be7a65",
   "metadata": {},
   "outputs": [],
   "source": [
    "# Import pandas\n",
    "import pandas as pd\n",
    "\n",
    "# Read the excel file into a dataframe\n",
    "df = pd.read_excel(\"C:/Users/Dimitris/Desktop/project spotify/Global_Homicide_Database/homicide/Intentional_Homicide.xls\")\n",
    "\n",
    "# Get the values of the first row\n",
    "new_columns = list(df.iloc[0])\n",
    "\n",
    "# Iterate over the list of column names\n",
    "for i in range(len(new_columns)):\n",
    "    # If the column name is a float, format it as a year\n",
    "    if isinstance(new_columns[i], float):\n",
    "        new_columns[i] = str(int(new_columns[i]))\n",
    "    # Otherwise, remove any leading/trailing whitespace\n",
    "    else:\n",
    "        new_columns[i] = new_columns[i].strip()\n",
    "\n",
    "# Set the column names to the values in the first row\n",
    "df.columns = new_columns\n",
    "\n",
    "# Drop the first row, since it is now used as the column names\n",
    "df = df.drop(df.index[0])\n",
    "\n",
    "df.head()\n"
   ]
  },
  {
   "cell_type": "code",
   "execution_count": null,
   "id": "962b8ebc",
   "metadata": {},
   "outputs": [],
   "source": [
    "# Create first dataframe\n",
    "df1 = df.iloc[:, :5].join(df.iloc[:, 5:25])\n",
    "\n",
    "# Create second dataframe\n",
    "df2 = df.iloc[:, :5].join(df.iloc[:, 25:].add_suffix('_years'))\n"
   ]
  },
  {
   "cell_type": "code",
   "execution_count": null,
   "id": "af552789",
   "metadata": {},
   "outputs": [],
   "source": [
    "df2"
   ]
  },
  {
   "cell_type": "code",
   "execution_count": null,
   "id": "7b0781a0",
   "metadata": {},
   "outputs": [],
   "source": [
    "df.columns"
   ]
  },
  {
   "cell_type": "code",
   "execution_count": null,
   "id": "be4abbf9",
   "metadata": {},
   "outputs": [],
   "source": [
    "df.dtypes"
   ]
  },
  {
   "cell_type": "code",
   "execution_count": null,
   "id": "d11f77d0",
   "metadata": {},
   "outputs": [],
   "source": [
    "df.to_csv(\"C:/Users/Dimitris/Desktop/project spotify/Global_Homicide_Database/homicide/Intentional_Homicide.csv\", index=False)"
   ]
  },
  {
   "cell_type": "code",
   "execution_count": null,
   "id": "fc29fd09",
   "metadata": {},
   "outputs": [],
   "source": [
    "import pandas as pd\n",
    "import numpy as np\n",
    "\n",
    "# Read the CSV file into a pandas dataframe\n",
    "df = pd.read_csv(\"C:/Users/Dimitris/Desktop/project spotify/Global_Homicide_Database/homicide/Intentional_Homicide.csv\")\n",
    "\n",
    "# Rename the columns to lowercase and remove whitespace\n",
    "df.columns = df.columns.str.lower().str.strip()\n",
    "\n",
    "# Replace any non-numeric values with NaN\n",
    "df = df.replace({'-': np.nan, 'NSO': np.nan, 'NaN': np.nan})\n",
    "\n",
    "# Convert numeric columns to float\n",
    "numeric_cols = df.columns[4:]\n",
    "df[numeric_cols] = df[numeric_cols].astype(float)\n",
    "\n",
    "# Convert categorical columns to string or category type\n",
    "df[['region', 'subregion', 'country', 'source']] = df[['region', 'subregion', 'country', 'source']].astype('category')\n",
    "\n",
    "# Check for any outliers or anomalies in the data\n",
    "print(df.describe())\n"
   ]
  },
  {
   "cell_type": "code",
   "execution_count": null,
   "id": "1be4119a",
   "metadata": {},
   "outputs": [],
   "source": [
    "df.describe"
   ]
  },
  {
   "cell_type": "code",
   "execution_count": null,
   "id": "eb17f034",
   "metadata": {},
   "outputs": [],
   "source": [
    "import pandas as pd\n",
    "import numpy as np\n",
    "\n",
    "# Read the CSV file into a pandas dataframe\n",
    "df = pd.read_csv(\"C:/Users/Dimitris/Desktop/project spotify/Global_Homicide_Database/homicide/Intentional_Homicide.csv\")\n",
    "\n",
    "# Rename the columns to lowercase and remove whitespace\n",
    "df.columns = df.columns.str.lower().str.strip()\n",
    "\n",
    "# Replace any non-numeric values with NaN\n",
    "df = df.replace({'-': np.nan, 'NSO': np.nan, 'NaN': np.nan})\n",
    "\n",
    "# Convert numeric columns to float\n",
    "numeric_cols = df.columns[4:]\n",
    "df[numeric_cols] = df[numeric_cols].astype(float)\n",
    "\n",
    "# Convert categorical columns to string or category type\n",
    "df[['region', 'subregion', 'country', 'source']] = df[['region', 'subregion', 'country', 'source']].astype('category')\n",
    "\n",
    "# Check for missing values\n",
    "print(df.isnull().sum())\n",
    "\n",
    "# Check for any outliers or anomalies in the data\n",
    "print(df.describe())\n"
   ]
  },
  {
   "cell_type": "code",
   "execution_count": null,
   "id": "f6414feb",
   "metadata": {},
   "outputs": [],
   "source": [
    "print(df.isna().sum())\n"
   ]
  },
  {
   "cell_type": "code",
   "execution_count": null,
   "id": "cbd2ffd5",
   "metadata": {},
   "outputs": [],
   "source": [
    "missing_regions = df[df['region'].isna()]\n",
    "missing_regions"
   ]
  }
 ],
 "metadata": {
  "kernelspec": {
   "display_name": "Python 3 (ipykernel)",
   "language": "python",
   "name": "python3"
  },
  "language_info": {
   "codemirror_mode": {
    "name": "ipython",
    "version": 3
   },
   "file_extension": ".py",
   "mimetype": "text/x-python",
   "name": "python",
   "nbconvert_exporter": "python",
   "pygments_lexer": "ipython3",
   "version": "3.11.1"
  }
 },
 "nbformat": 4,
 "nbformat_minor": 5
}
